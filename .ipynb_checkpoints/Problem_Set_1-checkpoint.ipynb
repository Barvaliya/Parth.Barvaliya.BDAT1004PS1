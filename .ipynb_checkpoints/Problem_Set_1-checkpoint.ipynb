{
 "cells": [
  {
   "cell_type": "markdown",
   "id": "d991539f",
   "metadata": {},
   "source": [
    "Question 1 C#\n",
    "What data type is each of the following?\n",
    "5 \n",
    "5.0\n",
    "5 > 1\n",
    "'5'\n",
    "5 * 2\n",
    "'5' * 2\n",
    "'5' + '2'\n",
    "5 / 2\n",
    "5 % 2\n",
    "{5, 2, 1}\n",
    "5 == 3\n",
    "Pi (the number)"
   ]
  },
  {
   "cell_type": "code",
   "execution_count": 18,
   "id": "7ba8c38a",
   "metadata": {},
   "outputs": [
    {
     "name": "stdout",
     "output_type": "stream",
     "text": [
      "Value: 5, Data TypeSystem.Int32\n",
      "Value: 5, Data TypeSystem.Double\n",
      "Value: True, Data TypeSystem.Boolean\n",
      "Value: 5, Data TypeSystem.Char\n",
      "Value: 10, Data TypeSystem.Int32\n",
      "Value: 106, Data TypeSystem.Int32\n",
      "Value: 2, Data TypeSystem.Int32\n",
      "Value: 1, Data TypeSystem.Int32\n",
      "Value: False, Data TypeSystem.Boolean\n",
      "Value: 3.14, Data TypeSystem.Double\n",
      "System.Int32[]\n"
     ]
    }
   ],
   "source": [
    "object[] dataTypes = new object[]\n",
    "{\n",
    "    5, 5.0, 5>1, '5', 5 * 2, '5' * 2, 5/2, 5%2, 5==3, 3.14\n",
    "};\n",
    "\n",
    "foreach (var item in dataTypes)\n",
    "{\n",
    "    Console.WriteLine($\"Value: {item}, Data Type{item.GetType()}\");\n",
    "}\n",
    "\n",
    "int[] myArray = {5,2,1};\n",
    "Console.WriteLine(myArray.GetType());\n"
   ]
  },
  {
   "cell_type": "code",
   "execution_count": null,
   "id": "38ef935f",
   "metadata": {},
   "outputs": [],
   "source": []
  }
 ],
 "metadata": {
  "kernelspec": {
   "display_name": ".NET (C#)",
   "language": "C#",
   "name": ".net-csharp"
  },
  "language_info": {
   "file_extension": ".cs",
   "mimetype": "text/x-csharp",
   "name": "C#",
   "pygments_lexer": "csharp",
   "version": "8.0"
  }
 },
 "nbformat": 4,
 "nbformat_minor": 5
}
