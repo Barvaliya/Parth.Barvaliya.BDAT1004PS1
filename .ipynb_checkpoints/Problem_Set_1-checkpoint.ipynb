{
 "cells": [
  {
   "cell_type": "markdown",
   "id": "d991539f",
   "metadata": {},
   "source": [
    "Question 1 C#\n",
    "\n",
    "What data type is each of the following?\n",
    "5 \n",
    "5.0\n",
    "5 > 1\n",
    "'5'\n",
    "5 * 2\n",
    "'5' * 2\n",
    "'5' + '2'\n",
    "5 / 2\n",
    "5 % 2\n",
    "{5, 2, 1}\n",
    "5 == 3\n",
    "Pi (the number)"
   ]
  },
  {
   "cell_type": "code",
   "execution_count": 1,
   "id": "316af3a1",
   "metadata": {},
   "outputs": [
    {
     "name": "stdout",
     "output_type": "stream",
     "text": [
      "Value: 5, Data TypeSystem.Int32\n",
      "Value: 5, Data TypeSystem.Double\n",
      "Value: True, Data TypeSystem.Boolean\n",
      "Value: 5, Data TypeSystem.Char\n",
      "Value: 10, Data TypeSystem.Int32\n",
      "Value: 106, Data TypeSystem.Int32\n",
      "Value: 2, Data TypeSystem.Int32\n",
      "Value: 1, Data TypeSystem.Int32\n",
      "Value: False, Data TypeSystem.Boolean\n",
      "Value: 3.141592653589793, Data TypeSystem.Double\n",
      "System.Int32[]\n"
     ]
    }
   ],
   "source": [
    "// Reference for Pi(the number)\n",
    "// https://www.dotnetperls.com/pi\n",
    "\n",
    "\n",
    "object[] dataTypes = new object[]\n",
    "{\n",
    "    5, 5.0, 5>1, '5', 5 * 2, '5' * 2, 5/2, 5%2, 5==3, Math.PI\n",
    "};\n",
    "\n",
    "foreach (var item in dataTypes)\n",
    "{\n",
    "    Console.WriteLine($\"Value: {item}, Data Type{item.GetType()}\");\n",
    "}\n",
    "\n",
    "int[] myArray = {5,2,1};\n",
    "Console.WriteLine(myArray.GetType());\n"
   ]
  },
  {
   "cell_type": "markdown",
   "id": "57c3ceaf",
   "metadata": {},
   "source": [
    "Question 2 C#\n",
    "\n",
    "Write (and evaluate) C# expressions that answer these questions:\n",
    "\n",
    "a. How many letters are there in 'Supercalifragilisticexpialidocious'?\n",
    "\n",
    "b. Does 'Supercalifragilisticexpialidocious' contain 'ice' as a substring?\n",
    "\n",
    "c. Which of the following words is the longest: \n",
    "Supercalifragilisticexpialidocious, Honorificabilitudinitatibus, or \n",
    "Bababadalgharaghtakamminarronnkonn?\n",
    "\n",
    "d. Which composer comes first in the dictionary: 'Berlioz', 'Borodin', 'Brian', \n",
    "'Bartok', 'Bellini', 'Buxtehude', 'Bernstein'. Which one comes last?"
   ]
  },
  {
   "cell_type": "code",
   "execution_count": 33,
   "id": "6d942dc3",
   "metadata": {},
   "outputs": [
    {
     "name": "stdout",
     "output_type": "stream",
     "text": [
      "Lenght of string Supercalifragilisticexpialidocious is 34\n",
      "Does Supercalifragilisticexpialidocious contains 'ice': True\n",
      "The longest word is: Supercalifragilisticexpialidocious\n",
      "Alphabetically first composer: Bartok\n"
     ]
    }
   ],
   "source": [
    "// (a) checking the length of a string\n",
    "var string_a = \"Supercalifragilisticexpialidocious\";\n",
    "int length = string_a.Length;\n",
    "Console.WriteLine($\"Lenght of string {string_a} is {length}\");\n",
    "\n",
    "// (b) checking if the length contains a substring 'ice'\n",
    "bool contain_ice = string_a.Contains(\"ice\");\n",
    "Console.WriteLine($\"Does {string_a} contains 'ice': {contain_ice}\");\n",
    "\n",
    "// (c) checking the longest word out of the three given strings\n",
    "string[] words = {\"Supercalifragilisticexpialidocious\", \"Honorificabilitudinitatibus\", \"Bababadalgharaghtakamminarronnkonn\"};\n",
    "\n",
    "string longest_word = words[0];\n",
    "foreach (string word in words)\n",
    "{\n",
    "    if(word.Length > longest_word.Length)\n",
    "    {\n",
    "        longest_word = word;\n",
    "    }\n",
    "    \n",
    "}\n",
    "\n",
    "Console.WriteLine($\"The longest word is: {longest_word}\");\n",
    "\n",
    "// (d) sorting the given list of names\n",
    "string[] composers = {\"Berlioz\", \"Borodin\", \"Brian\", \"Bartok\", \"Bellini\", \"Buxtehude\", \"Bernstein\"};\n",
    "Array.Sort(composers);\n",
    "Console.WriteLine($\"Alphabetically first composer: {composers[0]}\");"
   ]
  },
  {
   "cell_type": "markdown",
   "id": "76bf6576",
   "metadata": {},
   "source": [
    "Question 3 C#\n",
    "\n",
    "Implement function triangleArea(a,b,c) that takes as input the lengths of the 3\n",
    "sides of a triangle and returns the area of the triangle. By Heron's formula, the area \n",
    "of a triangle with side lengths a, b, and c is sqrt(s(s - a)(s -b)(s -c)), where \n",
    "s = (a+b+c)/2\n",
    "\n",
    "for triangleArea(2,2,2)\n",
    "1.7320508075688772\n"
   ]
  },
  {
   "cell_type": "code",
   "execution_count": 5,
   "id": "5f3f59ed",
   "metadata": {},
   "outputs": [
    {
     "data": {
      "text/plain": [
       "1.7320508075688772"
      ]
     },
     "execution_count": 5,
     "metadata": {},
     "output_type": "execute_result"
    }
   ],
   "source": [
    "static double triangleArea(double a, double b, double c)\n",
    "{\n",
    "    // Calculate the semi-perimeter (s)\n",
    "    double s = (a + b + c) / 2.0;\n",
    "\n",
    "    // Calculate the area using Heron's formula\n",
    "    double area = Math.Sqrt(s * (s - a) * (s - b) * (s - c));\n",
    "\n",
    "    return area;\n",
    "}\n",
    "\n",
    "\n",
    "triangleArea(2,2,2)\n"
   ]
  },
  {
   "cell_type": "markdown",
   "id": "fe87746a",
   "metadata": {},
   "source": [
    "Question 4 C#\n",
    "\n",
    "Write a program in C# Sharp to separate odd and even integers in separate arrays. \n",
    "Go to the editor\n",
    "Test Data :\n",
    "Input the number of elements to be stored in the array :5\n",
    "Input 5 elements in the array :\n",
    "element - 0 : 25\n",
    "element - 1 : 47\n",
    "element - 2 : 42\n",
    "element - 3 : 56\n",
    "element - 4 : 32\n",
    "Expected Output:\n",
    "The Even elements are:\n",
    "42 56 32\n",
    "The Odd elements are :\n",
    "25 47\n"
   ]
  },
  {
   "cell_type": "code",
   "execution_count": 44,
   "id": "c54d41fb",
   "metadata": {},
   "outputs": [
    {
     "name": "stdout",
     "output_type": "stream",
     "text": [
      "total number of elements are 5 as follows:\n",
      "25 47 42 56 32 \n",
      "\n",
      "The odd elements are: \n",
      "25 47 \n",
      "The even elements are: \n",
      "42 56 32 "
     ]
    }
   ],
   "source": [
    "int[] numbers = {25, 47, 42, 56, 32};\n",
    "Console.WriteLine($\"total number of elements are {numbers.Length} as follows:\");\n",
    "foreach (int num in numbers)\n",
    "{\n",
    "    Console.Write(num + \" \");\n",
    "}\n",
    "int[] oddArray = new int[numbers.Length];\n",
    "int[] evenArray = new int[numbers.Length];\n",
    "\n",
    "int odd_count = 0;\n",
    "int even_count = 0;\n",
    "\n",
    "foreach (int num in numbers)\n",
    "{\n",
    "    if (num % 2 == 0)\n",
    "    {\n",
    "        evenArray[even_count] = num;\n",
    "        even_count++;\n",
    "    }\n",
    "    \n",
    "    else\n",
    "    {\n",
    "        oddArray[odd_count] = num;\n",
    "        odd_count++;\n",
    "    }\n",
    "}\n",
    "\n",
    "Console.WriteLine(\"\\n\\nThe odd elements are: \");\n",
    "foreach (int odd in oddArray)\n",
    "{\n",
    "    if (odd == 0)\n",
    "    {\n",
    "        continue;\n",
    "    }\n",
    "    Console.Write(odd + \" \");\n",
    "}\n",
    "\n",
    "Console.WriteLine(\"\\nThe even elements are: \");\n",
    "foreach (int even in evenArray)\n",
    "{\n",
    "    if (even == 0)\n",
    "    {\n",
    "        continue;\n",
    "    }\n",
    "    Console.Write(even + \" \");\n",
    "}\n",
    "\n"
   ]
  },
  {
   "cell_type": "markdown",
   "id": "7e56a415",
   "metadata": {},
   "source": [
    "Question 5 C#\n",
    "\n",
    "a. Write a function inside(x,y,x1,y1,x2,y2) that returns True or False \n",
    "depending on whether the point (x,y) lies in the rectangle with lower left \n",
    "corner (x1,y1) and upper right corner (x2,y2).\n",
    ">>> inside(1,1,0,0,2,3)\n",
    "True\n",
    ">>> inside(-1,-1,0,0,2,3)\n",
    "False\n",
    "\n",
    "b. Use function inside() from part a. to write an expression that tests whether \n",
    "the point (1,1) lies in both of the following rectangles: one with lower left \n",
    "corner (0.3, 0.5) and upper right corner (1.1, 0.7) and the other with lower \n",
    "left corner (0.5, 0.2) and upper right corner (1.1, 2)."
   ]
  },
  {
   "cell_type": "code",
   "execution_count": 83,
   "id": "ebcaadf7",
   "metadata": {},
   "outputs": [
    {
     "name": "stdout",
     "output_type": "stream",
     "text": [
      "Is point (1,1) in rectangel |(0,0), (2,3)|  ?\n",
      "True\n",
      "Is point (-1,-1) in rectangel |(0,0), (2,3)|  ?\n",
      "False\n",
      "\n",
      "Checking for (1,1) in rectangles |(0.3,0.5),(1.1,0.7)| and |(0.5,0.2),(1.1,2)|\n",
      "The given point doesn't lie in both triangles\n"
     ]
    }
   ],
   "source": [
    "// inside function for part a\n",
    "static bool Inside(double x, double y, double x1, double y1, double x2, double y2)\n",
    "{\n",
    "    return (x1 < x && x < x2 && y1 < y && y < y2);\n",
    "}\n",
    "\n",
    "Console.WriteLine(\"Is point (1,1) in rectangel |(0,0), (2,3)|  ?\");\n",
    "bool a1 = Inside(1,1,0,0,2,3);\n",
    "Console.WriteLine(a1);\n",
    "\n",
    "Console.WriteLine(\"Is point (-1,-1) in rectangel |(0,0), (2,3)|  ?\");\n",
    "bool a2 = Inside(-1,-1,0,0,2,3);\n",
    "Console.WriteLine(a2+\"\\n\");\n",
    "\n",
    "\n",
    "// check if a point is in both rectangles\n",
    "Console.WriteLine(\"Checking for (1,1) in rectangles |(0.3,0.5),(1.1,0.7)| and |(0.5,0.2),(1.1,2)|\");\n",
    "bool rec1 = Inside(1, 1, 0.3, 0.5, 1.1, 0.7);\n",
    "bool rec2 = Inside(1, 1, 0.5, 0.2, 1.1, 2);\n",
    "\n",
    "if (rec1 && rec2)\n",
    "{\n",
    "    Console.WriteLine(\"The given point lies in both triangles\");\n",
    "}\n",
    "\n",
    "else\n",
    "{\n",
    "    Console.WriteLine(\"The given point doesn't lie in both triangles\");\n",
    "}"
   ]
  },
  {
   "cell_type": "markdown",
   "id": "de14d7a2",
   "metadata": {},
   "source": [
    "Question 6 Python\n",
    "\n",
    "You can turn a word into pig-Latin using the following two rules (simplified):\n",
    "• If the word starts with a consonant, move that letter to the end and append \n",
    "'ay'. For example, 'happy' becomes 'appyhay' and 'pencil' becomes 'encilpay'.\n",
    "• If the word starts with a vowel, simply append 'way' to the end of the word. \n",
    "For example, 'enter' becomes 'enterway' and 'other' becomes 'otherway' . For \n",
    "our purposes, there are 5 vowels: a, e, i, o, u (so we count y as a consonant).\n",
    "Write a function pig() that takes a word (i.e., a string) as input and returns its pig\u0002Latin form. Your function should still work if the input word contains upper case \n",
    "characters. Your output should always be lower case however. \n",
    ">>> pig('happy')\n",
    "'appyhay'\n",
    ">>> pig('Enter')\n",
    "'enterway'"
   ]
  },
  {
   "cell_type": "code",
   "execution_count": 2,
   "id": "156f2561",
   "metadata": {
    "scrolled": true
   },
   "outputs": [
    {
     "name": "stdout",
     "output_type": "stream",
     "text": [
      "apppyhay\n",
      "enterway\n"
     ]
    }
   ],
   "source": [
    "def pig(word):\n",
    "    \n",
    "    #change the word lowerase, if needed\n",
    "    word = word.lower()\n",
    "    \n",
    "    if word[0] in {\"a\", \"e\", \"i\", \"o\", \"u\"}:\n",
    "        pig_latin = word + \"way\"\n",
    "    \n",
    "    else:\n",
    "        pig_latin = word[1:] + word[0] + \"ay\"\n",
    "    \n",
    "    return pig_latin\n",
    "\n",
    "print(pig(\"happpy\"))\n",
    "print(pig(\"Enter\"))"
   ]
  },
  {
   "cell_type": "markdown",
   "id": "c65545d8",
   "metadata": {},
   "source": [
    "Question 7 Python\n",
    "File bloodtype1.txt records blood-types of patients (A, B, AB, O or OO) at a clinic. \n",
    "Write a function bldcount() that reads the file with name \"name\" and reports (i.e., \n",
    "prints) how many patients there are in each bloodtype.\n",
    ">>> bldcount('bloodtype.txt')\n",
    "There are 10 patients of blood type A.\n",
    "There is one patient of blood type B.\n",
    "There are 10 patients of blood type AB.\n",
    "There are 12 patients of blood type O.\n",
    "There are no patients of blood type OO."
   ]
  },
  {
   "cell_type": "code",
   "execution_count": 7,
   "id": "7463f0e7",
   "metadata": {},
   "outputs": [
    {
     "name": "stdout",
     "output_type": "stream",
     "text": [
      "There are 15 patients of blood type A.\n",
      "There is one patient of blood type B.\n",
      "There are 13 patients of blood type AB.\n",
      "There are 15 patients of blood type O.\n",
      "There are no patients of blood type OO.\n"
     ]
    }
   ],
   "source": [
    "def bldcount(filename):\n",
    "    data = {\"A\": 0, \"B\": 0, \"AB\": 0, \"O\": 0, \"OO\": 0}\n",
    "\n",
    "    try:\n",
    "        with open(filename, 'r') as file:\n",
    "            words = file.read().split()\n",
    "\n",
    "            for word in words:\n",
    "                blood_type = word.upper()\n",
    "                if blood_type in data:\n",
    "                    data[blood_type] += 1\n",
    "\n",
    "        # Print the count for each blood type\n",
    "        for blood_type, count in data.items():\n",
    "            if count == 1:\n",
    "                print(f'There is one patient of blood type {blood_type}.')\n",
    "            elif count > 1:\n",
    "                print(f'There are {count} patients of blood type {blood_type}.')\n",
    "            else:\n",
    "                print(f'There are no patients of blood type {blood_type}.')\n",
    "\n",
    "    except FileNotFoundError:\n",
    "        print(f\"File '{filename}' not found.\")\n",
    "\n",
    "bldcount('bloodtype1.txt')"
   ]
  },
  {
   "cell_type": "markdown",
   "id": "49b176c1",
   "metadata": {},
   "source": [
    "Question 8 Python\n",
    "\n",
    "Write a function curconv() that takes as input:\n",
    "1. a currency represented using a string (e.g., 'JPY' for the Japanese Yen or \n",
    "'EUR' for the Euro)\n",
    "2. an amount\n",
    "and then converts and returns the amount in US dollars.\n",
    "\n",
    ">>> curconv('EUR', 100)\n",
    "122.96544\n",
    "\n",
    ">>> curconv('JPY', 100)\n",
    "1.241401"
   ]
  },
  {
   "cell_type": "code",
   "execution_count": 14,
   "id": "de7e675e",
   "metadata": {},
   "outputs": [
    {
     "name": "stdout",
     "output_type": "stream",
     "text": [
      "{'AUD': 1.0345157, 'CHF': 1.0237414, 'CNY': 0.1550176, 'DKK': 0.1651442, 'EUR': 1.2296544, 'GBP': 1.5550989, 'HKD': 0.1270207, 'INR': 0.0177643, 'JPY': 0.01241401, 'MXN': 0.0751848, 'MYR': 0.3145411, 'NOK': 0.1677063, 'NZD': 0.8003591, 'PHP': 0.0233234, 'SEK': 0.148269, 'SGD': 0.788871, 'THB': 0.0313789}\n"
     ]
    }
   ],
   "source": [
    "def extract(filename):\n",
    "    try:\n",
    "        currency_rates = {}\n",
    "        with open(filename, 'r') as file:\n",
    "            for line in file:\n",
    "                parts = line.split()\n",
    "                code, rate = parts[0], float(parts[1])\n",
    "                currency_rates[code] = rate\n",
    "    except FileNotFoundError:\n",
    "        print(f\"file {filename} not found.\")\n",
    "    return currency_rates\n",
    "    \n",
    "#def curconv(currency_code, amount):\n",
    "    # find the code, get the exchange rate, multiply and get conversion\n",
    "    \n",
    "extract(currencies.txt)\n",
    "print(currency)"
   ]
  }
 ],
 "metadata": {
  "kernelspec": {
   "display_name": "Python 3 (ipykernel)",
   "language": "python",
   "name": "python3"
  },
  "language_info": {
   "codemirror_mode": {
    "name": "ipython",
    "version": 3
   },
   "file_extension": ".py",
   "mimetype": "text/x-python",
   "name": "python",
   "nbconvert_exporter": "python",
   "pygments_lexer": "ipython3",
   "version": "3.11.4"
  }
 },
 "nbformat": 4,
 "nbformat_minor": 5
}
