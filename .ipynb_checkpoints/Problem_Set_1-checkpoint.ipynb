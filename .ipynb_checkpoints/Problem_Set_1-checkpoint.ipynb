{
 "cells": [
  {
   "cell_type": "markdown",
   "id": "d991539f",
   "metadata": {},
   "source": [
    "Question 1 C#\n",
    "\n",
    "What data type is each of the following?\n",
    "5 \n",
    "5.0\n",
    "5 > 1\n",
    "'5'\n",
    "5 * 2\n",
    "'5' * 2\n",
    "'5' + '2'\n",
    "5 / 2\n",
    "5 % 2\n",
    "{5, 2, 1}\n",
    "5 == 3\n",
    "Pi (the number)"
   ]
  },
  {
   "cell_type": "code",
   "execution_count": 1,
   "id": "316af3a1",
   "metadata": {},
   "outputs": [
    {
     "name": "stdout",
     "output_type": "stream",
     "text": [
      "Value: 5, Data TypeSystem.Int32\n",
      "Value: 5, Data TypeSystem.Double\n",
      "Value: True, Data TypeSystem.Boolean\n",
      "Value: 5, Data TypeSystem.Char\n",
      "Value: 10, Data TypeSystem.Int32\n",
      "Value: 106, Data TypeSystem.Int32\n",
      "Value: 2, Data TypeSystem.Int32\n",
      "Value: 1, Data TypeSystem.Int32\n",
      "Value: False, Data TypeSystem.Boolean\n",
      "Value: 3.141592653589793, Data TypeSystem.Double\n",
      "System.Int32[]\n"
     ]
    }
   ],
   "source": [
    "// Reference for Pi(the number)\n",
    "// https://www.dotnetperls.com/pi\n",
    "\n",
    "\n",
    "object[] dataTypes = new object[]\n",
    "{\n",
    "    5, 5.0, 5>1, '5', 5 * 2, '5' * 2, 5/2, 5%2, 5==3, Math.PI\n",
    "};\n",
    "\n",
    "foreach (var item in dataTypes)\n",
    "{\n",
    "    Console.WriteLine($\"Value: {item}, Data Type{item.GetType()}\");\n",
    "}\n",
    "\n",
    "int[] myArray = {5,2,1};\n",
    "Console.WriteLine(myArray.GetType());\n"
   ]
  },
  {
   "cell_type": "markdown",
   "id": "57c3ceaf",
   "metadata": {},
   "source": [
    "Question 2 C#\n",
    "\n",
    "Write (and evaluate) C# expressions that answer these questions:\n",
    "a. How many letters are there in 'Supercalifragilisticexpialidocious'?\n",
    "\n",
    "b. Does 'Supercalifragilisticexpialidocious' contain 'ice' as a substring?\n",
    "\n",
    "c. Which of the following words is the longest: \n",
    "Supercalifragilisticexpialidocious, Honorificabilitudinitatibus, or \n",
    "Bababadalgharaghtakamminarronnkonn?\n",
    "\n",
    "d. Which composer comes first in the dictionary: 'Berlioz', 'Borodin', 'Brian', \n",
    "'Bartok', 'Bellini', 'Buxtehude', 'Bernstein'. Which one comes last?"
   ]
  },
  {
   "cell_type": "code",
   "execution_count": 33,
   "id": "6d942dc3",
   "metadata": {},
   "outputs": [
    {
     "name": "stdout",
     "output_type": "stream",
     "text": [
      "Lenght of string Supercalifragilisticexpialidocious is 34\n",
      "Does Supercalifragilisticexpialidocious contains 'ice': True\n",
      "The longest word is: Supercalifragilisticexpialidocious\n",
      "Alphabetically first composer: Bartok\n"
     ]
    }
   ],
   "source": [
    "// checking the length of a string\n",
    "var string_a = \"Supercalifragilisticexpialidocious\";\n",
    "int length = string_a.Length;\n",
    "Console.WriteLine($\"Lenght of string {string_a} is {length}\");\n",
    "\n",
    "// checking if the length contains a substring 'ice'\n",
    "bool contain_ice = string_a.Contains(\"ice\");\n",
    "Console.WriteLine($\"Does {string_a} contains 'ice': {contain_ice}\");\n",
    "\n",
    "// checking the longest word out of the three given strings\n",
    "string[] words = {\"Supercalifragilisticexpialidocious\", \"Honorificabilitudinitatibus\", \"Bababadalgharaghtakamminarronnkonn\"};\n",
    "\n",
    "string longest_word = words[0];\n",
    "foreach (string word in words)\n",
    "{\n",
    "    if(word.Length > longest_word.Length)\n",
    "    {\n",
    "        longest_word = word;\n",
    "    }\n",
    "    \n",
    "}\n",
    "\n",
    "Console.WriteLine($\"The longest word is: {longest_word}\");\n",
    "\n",
    "// sorting the given list of names\n",
    "string[] composers = {\"Berlioz\", \"Borodin\", \"Brian\", \"Bartok\", \"Bellini\", \"Buxtehude\", \"Bernstein\"};\n",
    "Array.Sort(composers);\n",
    "Console.WriteLine($\"Alphabetically first composer: {composers[0]}\");"
   ]
  },
  {
   "cell_type": "markdown",
   "id": "76bf6576",
   "metadata": {},
   "source": [
    "Question 3 C#\n",
    "\n",
    "Implement function triangleArea(a,b,c) that takes as input the lengths of the 3\n",
    "sides of a triangle and returns the area of the triangle. By Heron's formula, the area \n",
    "of a triangle with side lengths a, b, and c is sqrt(s(s - a)(s -b)(s -c)), where \n",
    "s = (a+b+c)/2\n",
    "\n",
    "for triangleArea(2,2,2)\n",
    "1.7320508075688772\n"
   ]
  },
  {
   "cell_type": "code",
   "execution_count": 64,
   "id": "5f3f59ed",
   "metadata": {},
   "outputs": [
    {
     "data": {
      "text/plain": [
       "1.7320508075688772"
      ]
     },
     "execution_count": 64,
     "metadata": {},
     "output_type": "execute_result"
    }
   ],
   "source": [
    "static double triangleArea(int a, int b, int c)\n",
    "{\n",
    "    // Calculate the semi-perimeter (s)\n",
    "    double s = (a + b + c) / 2.0;\n",
    "\n",
    "    // Calculate the area using Heron's formula\n",
    "    double area = Math.Sqrt(s * (s - a) * (s - b) * (s - c));\n",
    "\n",
    "    return area;\n",
    "}\n",
    "\n",
    "\n",
    "triangleArea(2,2,2)\n"
   ]
  }
 ],
 "metadata": {
  "kernelspec": {
   "display_name": ".NET (C#)",
   "language": "C#",
   "name": ".net-csharp"
  },
  "language_info": {
   "file_extension": ".cs",
   "mimetype": "text/x-csharp",
   "name": "C#",
   "pygments_lexer": "csharp",
   "version": "8.0"
  }
 },
 "nbformat": 4,
 "nbformat_minor": 5
}
